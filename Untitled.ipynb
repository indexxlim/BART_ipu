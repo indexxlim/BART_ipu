{
 "cells": [
  {
   "cell_type": "code",
   "execution_count": 1,
   "id": "efeb4795-1cf9-4207-a5f6-c471dea5f4a0",
   "metadata": {},
   "outputs": [],
   "source": [
    "%load_ext autoreload\n",
    "%autoreload 2"
   ]
  },
  {
   "cell_type": "code",
   "execution_count": 2,
   "id": "8143f29e-127c-4a76-9217-72c11f20bc9f",
   "metadata": {},
   "outputs": [],
   "source": [
    "from model.modeling_bart import BartModel, BartForConditionalGeneration\n",
    "from transformers import BartTokenizer\n",
    "tokenizer = BartTokenizer.from_pretrained('facebook/bart-base')\n",
    "model = BartModel.from_pretrained('facebook/bart-base')\n",
    "\n",
    "inputs = tokenizer(\"Hello, my dog is cute\", return_tensors=\"pt\")\n",
    "outputs = model(**inputs)\n",
    "last_hidden_states = outputs.last_hidden_state\n"
   ]
  },
  {
   "cell_type": "code",
   "execution_count": 7,
   "id": "d6aeee18-69ad-4d71-b039-af4a111a63ff",
   "metadata": {},
   "outputs": [
    {
     "name": "stdout",
     "output_type": "stream",
     "text": [
      "['My friends']\n",
      "['not', 'good', 'healthy', 'great', 'very']\n"
     ]
    }
   ],
   "source": [
    "model = BartForConditionalGeneration.from_pretrained('facebook/bart-base')\n",
    "        #>>> tokenizer = BartTokenizer.from_pretrained('facebook/bart-large-cnn')\n",
    "ARTICLE_TO_SUMMARIZE = \"My friends are cool but they eat too many carbs.\"\n",
    "inputs = tokenizer([ARTICLE_TO_SUMMARIZE], max_length=1024, return_tensors='pt')\n",
    " # Generate Summary\n",
    "summary_ids = model.generate(inputs['input_ids'], num_beams=4, max_length=5, early_stopping=True)\n",
    "print([tokenizer.decode(g, skip_special_tokens=True, clean_up_tokenization_spaces=False) for g in summary_ids])\n",
    "\n",
    "### Masked filling\n",
    "TXT = \"My friends are <mask> but they eat too many carbs.\"\n",
    "input_ids = tokenizer([TXT], return_tensors='pt')['input_ids']\n",
    "logits = model(input_ids).logits\n",
    "masked_index = (input_ids[0] == tokenizer.mask_token_id).nonzero().item()\n",
    "probs = logits[0, masked_index].softmax(dim=0)\n",
    "values, predictions = probs.topk(5)\n",
    "print(tokenizer.decode(predictions).split())"
   ]
  },
  {
   "cell_type": "code",
   "execution_count": 26,
   "id": "e543060e-6cb6-42b8-ae3d-70a5ad8aa53a",
   "metadata": {},
   "outputs": [],
   "source": [
    "from easydict import EasyDict"
   ]
  },
  {
   "cell_type": "code",
   "execution_count": null,
   "id": "120b1630-fd17-431d-86a1-c8087f4aed5d",
   "metadata": {},
   "outputs": [],
   "source": [
    "model_args = {\n",
    "    \"model_name_or_path\": \"Graphcore/bart-base-ipu\",\n",
    "    \"cache_dir\": True,\n",
    "    \"model_revision\": False,\n",
    "    \"use_auth_token\": False\n",
    "}\n",
    "model_args = EasyDict(model_args)"
   ]
  },
  {
   "cell_type": "code",
   "execution_count": 41,
   "id": "342cfa9a-0062-4604-ad56-5efd1b38eefc",
   "metadata": {},
   "outputs": [],
   "source": []
  },
  {
   "cell_type": "code",
   "execution_count": 43,
   "id": "6a477adc-3f18-4def-ac97-4c58d60e1569",
   "metadata": {},
   "outputs": [
    {
     "data": {
      "application/vnd.jupyter.widget-view+json": {
       "model_id": "3dbad3f0727c48e7973e1172d165f50b",
       "version_major": 2,
       "version_minor": 0
      },
      "text/plain": [
       "Downloading:   0%|          | 0.00/1.04k [00:00<?, ?B/s]"
      ]
     },
     "metadata": {},
     "output_type": "display_data"
    }
   ],
   "source": [
    "from optimum.graphcore import IPUConfig, IPUTrainer, IPUTrainingArguments\n",
    "\n",
    "# A lot of the same code as the original script here\n",
    "\n",
    "# Loading the IPUConfig needed by the IPUTrainer to compile and train the model on IPUs\n",
    "# ipu_config = IPUConfig.from_pretrained(\n",
    "#     training_args.ipu_config_name if training_args.ipu_config_name else model_args.model_name_or_path,\n",
    "#     cache_dir=model_args.cache_dir,\n",
    "#     revision=model_args.model_revision,\n",
    "#     use_auth_token=True if model_args.use_auth_token else None,\n",
    "# )\n",
    "\n",
    "ipu_config = IPUConfig.from_pretrained(\"Graphcore/bart-base-ipu\")\n"
   ]
  },
  {
   "cell_type": "code",
   "execution_count": 46,
   "id": "716665e5-3dae-45c7-a20b-01b1a1a12d41",
   "metadata": {},
   "outputs": [
    {
     "data": {
      "text/plain": [
       "IPUConfig {\n",
       "  \"device_iterations\": 1,\n",
       "  \"embedding_serialization_factor\": 5,\n",
       "  \"enable_half_first_order_momentum\": true,\n",
       "  \"enable_half_partials\": true,\n",
       "  \"executable_cache_dir\": \"./exe_cache\",\n",
       "  \"gradient_accumulation_steps\": 512,\n",
       "  \"inference_device_iterations\": 5,\n",
       "  \"inference_replication_factor\": {\n",
       "    \"default\": 1,\n",
       "    \"pod16\": 4,\n",
       "    \"pod32\": 8,\n",
       "    \"pod4\": 1,\n",
       "    \"pod64\": 16,\n",
       "    \"pod8\": 2\n",
       "  },\n",
       "  \"ipus_per_replica\": 4,\n",
       "  \"layers_per_ipu\": [\n",
       "    0,\n",
       "    4,\n",
       "    4,\n",
       "    4\n",
       "  ],\n",
       "  \"matmul_proportion\": [\n",
       "    0.25,\n",
       "    0.2,\n",
       "    0.2,\n",
       "    0.25\n",
       "  ],\n",
       "  \"optimizer_state_offchip\": false,\n",
       "  \"optimum_version\": \"1.1.1\",\n",
       "  \"output_mode\": \"final\",\n",
       "  \"profile_dir\": \"\",\n",
       "  \"recompute_checkpoint_every_layer\": true,\n",
       "  \"replicated_tensor_sharding\": true,\n",
       "  \"replication_factor\": {\n",
       "    \"default\": 1,\n",
       "    \"pod16\": 4,\n",
       "    \"pod32\": 8,\n",
       "    \"pod4\": 1,\n",
       "    \"pod64\": 16,\n",
       "    \"pod8\": 2\n",
       "  },\n",
       "  \"seed\": null,\n",
       "  \"transformers_version\": \"4.18.0\",\n",
       "  \"use_popdist\": false\n",
       "}"
      ]
     },
     "execution_count": 46,
     "metadata": {},
     "output_type": "execute_result"
    }
   ],
   "source": [
    "ipu_config"
   ]
  },
  {
   "cell_type": "code",
   "execution_count": null,
   "id": "4cd01d0c-fd7d-4bf9-b327-21d32e8b58cb",
   "metadata": {},
   "outputs": [],
   "source": []
  },
  {
   "cell_type": "code",
   "execution_count": null,
   "id": "e0087b6a-654f-4c6a-a2b6-91187f7ec922",
   "metadata": {},
   "outputs": [],
   "source": []
  },
  {
   "cell_type": "code",
   "execution_count": null,
   "id": "d1de03a9-f115-4929-b6ea-7ac3eae056f4",
   "metadata": {},
   "outputs": [],
   "source": []
  },
  {
   "cell_type": "code",
   "execution_count": 14,
   "id": "18fb6e4b-ac65-428c-a9c6-f24b67780b21",
   "metadata": {},
   "outputs": [],
   "source": [
    "training_args = IPUTrainingArguments"
   ]
  },
  {
   "cell_type": "code",
   "execution_count": 16,
   "id": "3252e6bc-5d09-4e88-9437-98aabcbfbd7b",
   "metadata": {},
   "outputs": [],
   "source": [
    "training_args.ipu_config_name"
   ]
  },
  {
   "cell_type": "code",
   "execution_count": null,
   "id": "15c57b63-373d-409d-a99f-038648dfafa1",
   "metadata": {},
   "outputs": [],
   "source": []
  },
  {
   "cell_type": "code",
   "execution_count": null,
   "id": "7474f40b-9b8b-49e7-b944-ef0fb91f8836",
   "metadata": {
    "tags": []
   },
   "outputs": [],
   "source": []
  },
  {
   "cell_type": "code",
   "execution_count": null,
   "id": "82353a39-b851-462d-b304-8531cb12e56a",
   "metadata": {},
   "outputs": [],
   "source": []
  },
  {
   "cell_type": "code",
   "execution_count": 3,
   "id": "048f5520-3def-4bb6-ae0a-c7cd0bfade07",
   "metadata": {},
   "outputs": [],
   "source": [
    "import sys\n",
    "import time\n",
    "import wandb\n",
    "import warnings\n",
    "from tqdm import tqdm\n",
    "from pathlib import Path\n",
    "import logging\n",
    "\n",
    "import torch\n",
    "import transformers\n",
    "from poptorch import trainingModel\n",
    "from pretraining_data import get_dataloader, get_generated_datum\n",
    "from ipu_options import get_options\n",
    "from optimization import get_lr_scheduler, get_optimizer\n",
    "from checkpointing import save_checkpoint, checkpoints_exist\n",
    "from utils import get_sdk_version, cycle#, lo"
   ]
  },
  {
   "cell_type": "code",
   "execution_count": null,
   "id": "653f4087-21c1-4e85-8e58-939c9a6f0413",
   "metadata": {},
   "outputs": [],
   "source": []
  },
  {
   "cell_type": "code",
   "execution_count": null,
   "id": "87984bd6-6d5d-4376-bc82-ec38159d2579",
   "metadata": {},
   "outputs": [],
   "source": []
  },
  {
   "cell_type": "code",
   "execution_count": null,
   "id": "970cfdd5-8d54-4536-b59e-b5c0dd186c3d",
   "metadata": {},
   "outputs": [],
   "source": [
    "#from model.pipeline_bart import PipelinedBartForPretraining\n"
   ]
  },
  {
   "cell_type": "code",
   "execution_count": null,
   "id": "cf2e928e-8f57-4218-aed8-b0105b091b5e",
   "metadata": {},
   "outputs": [],
   "source": []
  }
 ],
 "metadata": {
  "kernelspec": {
   "display_name": "Python 3",
   "language": "python",
   "name": "python3"
  },
  "language_info": {
   "codemirror_mode": {
    "name": "ipython",
    "version": 3
   },
   "file_extension": ".py",
   "mimetype": "text/x-python",
   "name": "python",
   "nbconvert_exporter": "python",
   "pygments_lexer": "ipython3",
   "version": "3.6.9"
  }
 },
 "nbformat": 4,
 "nbformat_minor": 5
}
