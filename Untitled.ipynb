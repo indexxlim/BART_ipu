{
 "cells": [
  {
   "cell_type": "code",
   "execution_count": 1,
   "id": "efeb4795-1cf9-4207-a5f6-c471dea5f4a0",
   "metadata": {},
   "outputs": [],
   "source": [
    "%load_ext autoreload\n",
    "%autoreload 2"
   ]
  },
  {
   "cell_type": "code",
   "execution_count": 3,
   "id": "42795fb4-77e2-4af7-b8ff-599946d83a30",
   "metadata": {},
   "outputs": [],
   "source": [
    "# from model.modeling_bart import BartModel\n",
    "# from transformers import BartTokenizer\n",
    "# tokenizer = BartTokenizer.from_pretrained('facebook/bart-base')\n",
    "# model = BartModel.from_pretrained('facebook/bart-base')\n",
    "\n",
    "# inputs = tokenizer(\"Hello, my dog is cute\", return_tensors=\"pt\")\n",
    "# outputs = model(**inputs)\n",
    "# last_hidden_states = outputs.last_hidden_state\n",
    "# outputs"
   ]
  },
  {
   "cell_type": "code",
   "execution_count": null,
   "id": "9c008e81-e940-4b1f-bdc8-f9d4aa3e4d47",
   "metadata": {},
   "outputs": [],
   "source": []
  },
  {
   "cell_type": "code",
   "execution_count": null,
   "id": "82353a39-b851-462d-b304-8531cb12e56a",
   "metadata": {},
   "outputs": [],
   "source": []
  },
  {
   "cell_type": "code",
   "execution_count": null,
   "id": "048f5520-3def-4bb6-ae0a-c7cd0bfade07",
   "metadata": {},
   "outputs": [],
   "source": []
  },
  {
   "cell_type": "code",
   "execution_count": null,
   "id": "653f4087-21c1-4e85-8e58-939c9a6f0413",
   "metadata": {},
   "outputs": [],
   "source": []
  }
 ],
 "metadata": {
  "kernelspec": {
   "display_name": "transformer_ipu",
   "language": "python",
   "name": "venv"
  },
  "language_info": {
   "codemirror_mode": {
    "name": "ipython",
    "version": 3
   },
   "file_extension": ".py",
   "mimetype": "text/x-python",
   "name": "python",
   "nbconvert_exporter": "python",
   "pygments_lexer": "ipython3",
   "version": "3.6.9"
  }
 },
 "nbformat": 4,
 "nbformat_minor": 5
}
